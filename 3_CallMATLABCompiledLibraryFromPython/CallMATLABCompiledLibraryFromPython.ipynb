{
 "cells": [
  {
   "cell_type": "markdown",
   "metadata": {},
   "source": [
    "# Predict Air Quality: Calling MATLAB from Python Using MATLAB Runtime"
   ]
  },
  {
   "cell_type": "markdown",
   "metadata": {},
   "source": [
    "Import the weather data and use the MATLAB code to predict air quality.\n",
    "\n",
    "Use the MATLAB Runtime to call the model and code, which does not require a MATLAB installation or license to use. More info here: https://www.mathworks.com/help/compiler_sdk/python_packages.html\n",
    "\n",
    "First, install the Compiled Python library by going in the for_testing folder and execute the install command class (open a terminal with Ctrl+ù from VScode or the good old Windows cmd):\n",
    " * `cd 3_CallMATLABCompiledLibraryFromPython\\AirQual\\for_testing`\n",
    " * `python setup.py install`\n",
    "\n",
    "Then, get the access key. For that we need to change our working directory to be the **4_CallMATLABProductionServerFromPython/** folder where the *accessKey.txt* and *weather.py* files are located (as well as every MATLAB function we are calling)"
   ]
  },
  {
   "cell_type": "code",
   "execution_count": 1,
   "metadata": {},
   "outputs": [],
   "source": [
    "import os\n",
    "# os.getcwd()\n",
    "os.chdir(\"../4_CallMATLABProductionServerFromPython\")"
   ]
  },
  {
   "cell_type": "code",
   "execution_count": 2,
   "metadata": {},
   "outputs": [],
   "source": [
    "f = open(\"accessKey.txt\", \"r\")\n",
    "for r in f:\n",
    "    apikey = f.readline()\n",
    "f.close()"
   ]
  },
  {
   "cell_type": "markdown",
   "metadata": {},
   "source": [
    "#### Read the current weather data"
   ]
  },
  {
   "cell_type": "code",
   "execution_count": 3,
   "metadata": {},
   "outputs": [],
   "source": [
    "import weather"
   ]
  },
  {
   "cell_type": "code",
   "execution_count": 4,
   "metadata": {},
   "outputs": [
    {
     "name": "stdout",
     "output_type": "stream",
     "text": [
      "{'temp': 42.57, 'feels_like': 35.02, 'temp_min': 41, 'temp_max': 44.01, 'pressure': 1010, 'humidity': 100, 'speed': 10.36, 'deg': 20, 'gust': 18.41, 'lon': -71.0598, 'lat': 42.3584, 'city': 'Boston', 'current_time': '2021-03-18 21:03:01.405161'}\n"
     ]
    }
   ],
   "source": [
    "json_data = weather.get_current_weather(\"Boston\",\"US\",apikey)\n",
    "data = weather.parse_current_json(json_data)\n",
    "print(data)"
   ]
  },
  {
   "cell_type": "markdown",
   "metadata": {},
   "source": [
    "#### Use MATLAB to predict air quality\n",
    "Import the package created from MATLAB"
   ]
  },
  {
   "cell_type": "code",
   "execution_count": 5,
   "metadata": {},
   "outputs": [],
   "source": [
    "import AirQual"
   ]
  },
  {
   "cell_type": "code",
   "execution_count": 6,
   "metadata": {},
   "outputs": [],
   "source": [
    "aq = AirQual.initialize()"
   ]
  },
  {
   "cell_type": "code",
   "execution_count": 7,
   "metadata": {},
   "outputs": [
    {
     "name": "stdout",
     "output_type": "stream",
     "text": [
      "Good\n"
     ]
    }
   ],
   "source": [
    "label = aq.predictAirQual(data)\n",
    "print(label)"
   ]
  },
  {
   "cell_type": "markdown",
   "metadata": {},
   "source": [
    "Try another city"
   ]
  },
  {
   "cell_type": "code",
   "execution_count": 8,
   "metadata": {},
   "outputs": [
    {
     "name": "stdout",
     "output_type": "stream",
     "text": [
      "Good\n"
     ]
    }
   ],
   "source": [
    "json_data = weather.get_current_weather(\"Seattle\",\"US\",apikey)\n",
    "data = weather.parse_current_json(json_data)\n",
    "label = aq.predictAirQual(data)\n",
    "print(label)"
   ]
  },
  {
   "cell_type": "markdown",
   "metadata": {},
   "source": [
    "Terminate the MATLAB instance"
   ]
  },
  {
   "cell_type": "code",
   "execution_count": 9,
   "metadata": {},
   "outputs": [],
   "source": [
    "aq.terminate()"
   ]
  },
  {
   "cell_type": "markdown",
   "metadata": {},
   "source": [
    ""
   ]
  }
 ],
 "metadata": {
  "kernelspec": {
   "display_name": "Python 3",
   "language": "python",
   "name": "python3"
  },
  "language_info": {
   "codemirror_mode": {
    "name": "ipython",
    "version": 3
   },
   "file_extension": ".py",
   "mimetype": "text/x-python",
   "name": "python",
   "nbconvert_exporter": "python",
   "pygments_lexer": "ipython3",
   "version": "3.6.7"
  }
 },
 "nbformat": 4,
 "nbformat_minor": 2
}
